{
 "cells": [
  {
   "cell_type": "markdown",
   "metadata": {},
   "source": [
    "STAT 515 Project2"
   ]
  },
  {
   "cell_type": "code",
   "execution_count": null,
   "metadata": {},
   "outputs": [],
   "source": []
  },
  {
   "cell_type": "markdown",
   "metadata": {},
   "source": [
    "1."
   ]
  },
  {
   "cell_type": "code",
   "execution_count": 79,
   "metadata": {},
   "outputs": [],
   "source": [
    "#import package\n",
    "import sys\n",
    "import numpy as np\n",
    "import pandas as pd\n",
    "import matplotlib.pyplot as plt\n",
    "import statsmodels.api as sm\n",
    "import statsmodels.formula.api as smf"
   ]
  },
  {
   "cell_type": "code",
   "execution_count": 80,
   "metadata": {},
   "outputs": [],
   "source": [
    "#construct simCorn function\n",
    "def simCorn(overallEffect=0, fertilizerEffect=[0,0,0],rowEffect=[0,0,0], colEffect=[0,0,0],\n",
    "            seed=None, dist=np.random.normal,**attributes):  \n",
    "    if seed is not None:\n",
    "        if isinstance(seed, int):\n",
    "            seed=np.random.seed(seed)\n",
    "        else:\n",
    "            sys.exit(\"Non NULL or Integer Seed\")\n",
    "        \n",
    "    df=pd.DataFrame()\n",
    "    df['Fertilizer']=np.array([\"A\",\"B\",\"C\",\"C\",\"A\",\"B\",\"B\",\"C\",\"A\"])\n",
    "    df['Row']=np.array([0,0,0,1,1,1,2,2,2])\n",
    "    df['Column']=np.array([0,1,2,0,1,2,0,1,2])\n",
    "\n",
    "    \n",
    "    e = np.random.normal(0,1,9)\n",
    "    Yield=[]\n",
    "    Ferint = [0,1,2,2,0,1,1,2,0]\n",
    "    for k in range(9):\n",
    "        Yield.append(overallEffect + fertilizerEffect[Ferint[k]] + rowEffect[df['Row'][k]] + colEffect[df['Column'][k]] + np.random.normal())\n",
    "    df['Yield']=Yield\n",
    "    return df"
   ]
  },
  {
   "cell_type": "markdown",
   "metadata": {},
   "source": [
    "2."
   ]
  },
  {
   "cell_type": "code",
   "execution_count": 81,
   "metadata": {},
   "outputs": [
    {
     "data": {
      "text/plain": [
       "<matplotlib.lines.Line2D at 0xd430608>"
      ]
     },
     "execution_count": 81,
     "metadata": {},
     "output_type": "execute_result"
    },
    {
     "data": {
      "image/png": "[encoded data removed]",
      "text/plain": [
       "<Figure size 432x288 with 1 Axes>"
      ]
     },
     "metadata": {
      "needs_background": "light"
     },
     "output_type": "display_data"
    }
   ],
   "source": [
    "pValues=[]\n",
    "for k in range(100):\n",
    "    y3 = simCorn(10, [1,2,3],[1,0,1], [0,1,0], dist = np.random.exponential(1))\n",
    "    pValues.append(sm.stats.anova_lm(smf.ols(formula=\"Yield ~ Fertilizer + Row + Column\", data=y3).fit(),type=2)['PR(>F)'][0])\n",
    "plt.hist(pValues,bins=20,range=(0,1))\n",
    "plt.xlabel('pValues')\n",
    "plt.ylabel('Freq')\n",
    "plt.axvline(.05,color='orange',linestyle='dashed')"
   ]
  }
 ],
 "metadata": {
  "kernelspec": {
   "display_name": "Python 3",
   "language": "python",
   "name": "python3"
  },
  "language_info": {
   "codemirror_mode": {
    "name": "ipython",
    "version": 3
   },
   "file_extension": ".py",
   "mimetype": "text/x-python",
   "name": "python",
   "nbconvert_exporter": "python",
   "pygments_lexer": "ipython3",
   "version": "3.7.6"
  }
 },
 "nbformat": 4,
 "nbformat_minor": 4
}
